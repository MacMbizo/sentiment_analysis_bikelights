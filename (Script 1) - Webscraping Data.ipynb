{
 "cells": [
  {
   "cell_type": "markdown",
   "metadata": {},
   "source": [
    "## Imports"
   ]
  },
  {
   "cell_type": "code",
   "execution_count": 2,
   "metadata": {},
   "outputs": [],
   "source": [
    "import pandas as pd\n",
    "from bs4 import BeautifulSoup\n",
    "import requests\n",
    "import time\n",
    "from selenium.webdriver.chrome.options import Options\n",
    "from selenium import webdriver\n"
   ]
  },
  {
   "cell_type": "markdown",
   "metadata": {},
   "source": [
    "## Testing url"
   ]
  },
  {
   "cell_type": "code",
   "execution_count": 23,
   "metadata": {},
   "outputs": [
    {
     "data": {
      "text/plain": [
       "'https://www.amazon.com/Ascher-Rechargeable-Powerful-Headlight-Flashlight/product-reviews/B07FC9NRRR/ref=cm_cr_getr_d_paging_btm_prev_1?ie=UTF8&reviewerType=all_reviews&pageNumber=2'"
      ]
     },
     "execution_count": 23,
     "metadata": {},
     "output_type": "execute_result"
    }
   ],
   "source": [
    "test_url = \"https://www.amazon.com/Ascher-Rechargeable-Powerful-Headlight-Flashlight/product-reviews/B07FC9NRRR/ref=cm_cr_getr_d_paging_btm_prev_1?ie=UTF8&reviewerType=all_reviews&pageNumber=2\"\n",
    "# test_url_two = \"https://www.amazon.com/Ascher-Rechargeable-Powerful-Headlight-Flashlight/product-reviews/B07FC9NRRR/ref=cm_cr_getr_d_paging_btm_prev_2?ie=UTF8&reviewerType=all_reviews&pageNumber=3\"\n",
    "\n",
    "\n",
    "test_url"
   ]
  },
  {
   "cell_type": "code",
   "execution_count": 24,
   "metadata": {},
   "outputs": [
    {
     "data": {
      "text/plain": [
       "<Response [503]>"
      ]
     },
     "execution_count": 24,
     "metadata": {},
     "output_type": "execute_result"
    }
   ],
   "source": [
    "requests.get(test_url)"
   ]
  },
  {
   "cell_type": "code",
   "execution_count": 25,
   "metadata": {},
   "outputs": [],
   "source": [
    "driver_path = \"D:\\Projects\\drivers\\chromedriver_win32\\chromedriver.exe\"\n"
   ]
  },
  {
   "cell_type": "markdown",
   "metadata": {},
   "source": [
    "## Scraping Data"
   ]
  },
  {
   "cell_type": "code",
   "execution_count": 4,
   "metadata": {},
   "outputs": [
    {
     "name": "stderr",
     "output_type": "stream",
     "text": [
      "C:\\Users\\MACDON~1\\AppData\\Local\\Temp/ipykernel_15860/3525711657.py:11: DeprecationWarning: executable_path has been deprecated, please pass in a Service object\n",
      "  wd = webdriver.Chrome(executable_path=driver_path)\n"
     ]
    }
   ],
   "source": [
    "for i in range(101, 201):\n",
    "\n",
    "    page_number = str(i)\n",
    "\n",
    "    previous_page = str(i - 1)\n",
    "\n",
    "    test_url = f\"https://www.amazon.com/Ascher-Rechargeable-Powerful-Headlight-Flashlight/product-reviews/B07FC9NRRR/ref=cm_cr_getr_d_paging_btm_prev_{previous_page}?ie=UTF8&reviewerType=all_reviews&pageNumber={page_number}\"\n",
    "\n",
    "    driver_path = \"D:\\Projects\\drivers\\chromedriver_win32\\chromedriver.exe\"\n",
    "\n",
    "    wd = webdriver.Chrome(executable_path=driver_path)\n",
    "\n",
    "    wd.get(test_url)\n",
    "\n",
    "    time.sleep(1)\n",
    "\n",
    "    with open (f\"amazon_bikelight_reviews/{page_number}.html\", 'w', encoding='utf-8') as file:\n",
    "        file.write(wd.page_source)\n",
    "\n",
    "    wd.quit()\n",
    "\n"
   ]
  }
 ],
 "metadata": {
  "interpreter": {
   "hash": "b1c4a5487214aa4f124f98c5783a7121849542f5cd038029e3bb149981a2f9ef"
  },
  "kernelspec": {
   "display_name": "Python 3.10.0 64-bit ('webscraping': venv)",
   "language": "python",
   "name": "python3"
  },
  "language_info": {
   "codemirror_mode": {
    "name": "ipython",
    "version": 3
   },
   "file_extension": ".py",
   "mimetype": "text/x-python",
   "name": "python",
   "nbconvert_exporter": "python",
   "pygments_lexer": "ipython3",
   "version": "3.10.0"
  },
  "orig_nbformat": 4
 },
 "nbformat": 4,
 "nbformat_minor": 2
}
