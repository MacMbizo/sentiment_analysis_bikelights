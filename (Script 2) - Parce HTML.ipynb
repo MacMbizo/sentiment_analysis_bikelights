{
 "cells": [
  {
   "cell_type": "code",
   "execution_count": 37,
   "metadata": {},
   "outputs": [],
   "source": [
    "import pandas as pd\n",
    "from bs4 import BeautifulSoup\n",
    "import os"
   ]
  },
  {
   "cell_type": "code",
   "execution_count": 36,
   "metadata": {},
   "outputs": [
    {
     "data": {
      "text/plain": [
       "'Reviewed in the United States on September 13, 2018'"
      ]
     },
     "execution_count": 36,
     "metadata": {},
     "output_type": "execute_result"
    }
   ],
   "source": [
    "with open(\"amazon_bikelight_reviews/2.html\", 'r', encoding='utf-8') as reader:\n",
    "    html_string = reader.read()\n",
    "    soup = BeautifulSoup(html_string, 'html.parser')\n",
    "\n",
    "soup.find_all(class_ = \"review-rating\")[0].text # rating\n",
    "soup.find_all(class_ = \"review-text\")[0].text.strip() # review\n",
    "soup.find_all(class_=\"a-profile-name\")[0].text.strip() # name\n",
    "soup.find_all(class_ = \"review-date\")[0].text.strip() # date\n",
    "# soup.find_all(class_=\"a-size-base a-color-secondary review-date\")[0].text.strip()"
   ]
  },
  {
   "cell_type": "code",
   "execution_count": 39,
   "metadata": {},
   "outputs": [],
   "source": [
    "files = os.listdir(\"amazon_bikelight_reviews/\")"
   ]
  },
  {
   "cell_type": "code",
   "execution_count": 40,
   "metadata": {},
   "outputs": [],
   "source": [
    "review_stars = []\n",
    "review_text = []\n",
    "\n",
    "for i in files:\n",
    "    with open(f\"amazon_bikelight_reviews/{i}\", 'r', encoding='utf-8') as reader:\n",
    "    html_string = reader.read()\n",
    "    soup = BeautifulSoup(html_string, 'html.parser')\n",
    "\n",
    "    for text in soup.find_all(class_ = \"review-text\")\n",
    "     soup.find_all(class_ = \"review-rating\")[0].text # rating\n",
    "    \n",
    "    "
   ]
  },
  {
   "cell_type": "code",
   "execution_count": null,
   "metadata": {},
   "outputs": [],
   "source": []
  },
  {
   "cell_type": "code",
   "execution_count": null,
   "metadata": {},
   "outputs": [],
   "source": []
  }
 ],
 "metadata": {
  "interpreter": {
   "hash": "b1c4a5487214aa4f124f98c5783a7121849542f5cd038029e3bb149981a2f9ef"
  },
  "kernelspec": {
   "display_name": "Python 3.10.0 64-bit ('webscraping': venv)",
   "language": "python",
   "name": "python3"
  },
  "language_info": {
   "codemirror_mode": {
    "name": "ipython",
    "version": 3
   },
   "file_extension": ".py",
   "mimetype": "text/x-python",
   "name": "python",
   "nbconvert_exporter": "python",
   "pygments_lexer": "ipython3",
   "version": "3.10.0"
  },
  "orig_nbformat": 4
 },
 "nbformat": 4,
 "nbformat_minor": 2
}
